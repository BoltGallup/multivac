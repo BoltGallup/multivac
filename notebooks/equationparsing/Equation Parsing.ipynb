{
 "cells": [
  {
   "cell_type": "code",
   "execution_count": 2,
   "metadata": {},
   "outputs": [],
   "source": [
    "from sympy.parsing.sympy_parser import (parse_expr, standard_transformations, implicit_multiplication_application)\n",
    "from sympy.parsing.latex import parse_latex  \n",
    "from sympy import *\n",
    "import re\n",
    "import json\n",
    "import ast\n",
    "\n",
    "\n",
    "JDIR = '../../data' # UPDATE AS NECESSARY\n",
    "with open('{}/20181212.json'.format(JDIR)) as f:\n",
    "    data = json.load(f)\n",
    "    \n",
    "# Example 1\n",
    "doc2_ = data['10.1186/1687-1847-2014-164']['text']\n",
    " \n",
    "# Example 2\n",
    "doc_ = data['10.1186/s13662-016-0900-9']['text']\n",
    " "
   ]
  },
  {
   "cell_type": "markdown",
   "metadata": {},
   "source": [
    "## LaTeX parsing"
   ]
  },
  {
   "cell_type": "code",
   "execution_count": 3,
   "metadata": {
    "scrolled": true
   },
   "outputs": [],
   "source": [
    "doc = doc_\n",
    "\n",
    "def get_dictionary_matches(doc, regex):\n",
    "    d = {}\n",
    "    for i, m in enumerate(regex.finditer(doc)):\n",
    "        if m.group() in d:\n",
    "            d[m.group()].append({'s':m.start(), 'e':m.end()})\n",
    "        else:\n",
    "            d[m.group()] = [{'s':m.start(), 'e':m.end()}]\n",
    "    return d\n",
    "\n",
    "def remove_latex(doc, d):\n",
    "    for key, val in d.items():\n",
    "        doc = doc.replace(key, '')\n",
    "    \n",
    "    return doc\n",
    "\n",
    "\n",
    "latexBlock= re.compile('\\$\\$.*?\\$\\$')\n",
    "latexInline= re.compile('\\\\\\\\.*?\\\\\\\\\\)')\n",
    "\n",
    "d_block = get_dictionary_matches(doc, latexBlock)\n",
    "doc = remove_latex(doc, d_block)\n",
    "\n",
    "d_inline = get_dictionary_matches(doc, latexInline)\n",
    "doc = remove_latex(doc, d_inline)\n",
    "\n"
   ]
  },
  {
   "cell_type": "code",
   "execution_count": 4,
   "metadata": {
    "scrolled": true
   },
   "outputs": [
    {
     "name": "stdout",
     "output_type": "stream",
     "text": [
      "\\(\\Omega= \\bigcup_{j=1}^{p} \\Omega_{j}\\)\n",
      "\\(\\Omega_{j}\\)\n",
      "\\(S^{\\Omega_{j}}\\)\n",
      "\\(I^{\\Omega_{j}}\\)\n",
      "\\(R^{\\Omega_{j}}\\)\n",
      "\\(\\Gamma_{j}>0\\)\n",
      "\\(\\mu_{j}S^{\\Omega_{j}}\\)\n",
      "\\(\\mu_{j}I^{\\Omega_{j}}\\)\n",
      "\\(\\mu_{j}R^{\\Omega_{j}}\\)\n",
      "\\(\\mu_{j}>0\\)\n",
      "\\(\\gamma_{j}I^{\\Omega_{j}}\\)\n",
      "\\(\\gamma_{j}>0\\)\n",
      "\\(\\frac{I^{\\Omega_{k}}}{I^{\\Omega_{k}}+S^{\\Omega_{k}}}\\)\n",
      "\\(\\Omega_{k}\\)\n",
      "\\(\\beta_{jk}>0\\)\n",
      "\\(\\Omega_{l}\\)\n",
      "\\(\\beta_{jl}=0\\)\n",
      "\\(\\beta_{jk}\\)\n",
      "\\(\\beta _{lk}\\)\n",
      "\\(\\theta^{j}\\)\n",
      "\\(A_{1}\\)\n",
      "\\(A_{2}\\)\n",
      "\\(\\theta^{j*}\\)\n",
      "\\((\\theta^{\\min}, \\theta^{\\max})\\in\\,]0,1[^{2}\\)\n",
      "\\(\\lambda_{i}^{j}\\)\n",
      "\\(i=1,\\ldots,3\\)\n",
      "\\(S^{j}\\)\n",
      "\\(I^{j}\\)\n",
      "\\(R^{j}\\)\n",
      "\\(\\theta ^{j*}\\)\n",
      "\\(S^{j*}\\)\n",
      "\\(I^{j*}\\)\n",
      "\\(R^{j*}\\)\n",
      "\\(J(\\theta^{j})\\)\n",
      "\\(c_{1},c_{2}>0\\)\n",
      "\\(\\beta>1\\)\n",
      "\\(L(I^{j},R^{j},\\theta^{j})\\)\n",
      "\\(c_{1}\\)\n",
      "\\(c_{2}\\)\n",
      "\\(\\lambda_{1}^{j}(t)\\)\n",
      "\\(\\lambda_{2}^{j}(t)\\)\n",
      "\\(\\lambda_{3}^{j}(t)\\)\n",
      "\\(\\mbox{MATLAB}^{TM}\\)\n",
      "\\(\\lambda_{1}^{j}\\)\n",
      "\\(\\lambda _{2}^{j}\\)\n",
      "\\(\\lambda_{3}^{j}\\)\n",
      "\\(p=2\\)\n",
      "\\(\\Omega_{1}\\)\n",
      "\\(\\Omega_{2}\\)\n",
      "\\(\\theta^{1*}\\)\n",
      "\\(\\pmb{S_{0}}\\)\n",
      "\\(\\pmb{I_{0}}\\)\n",
      "\\(\\pmb{R_{0}}\\)\n",
      "\\(\\pmb{\\Omega_{1}}\\)\n",
      "\\(\\pmb{\\Omega_{2}}\\)\n",
      "\\(I_{0}^{1}=200\\)\n",
      "\\(I_{0}^{2}=100\\)\n",
      "\\(S^{1}\\)\n",
      "\\(I^{1}\\)\n",
      "\\(R^{1}\\)\n",
      "\\(\\theta^{1}\\)\n",
      "\\(\\pmb{\\theta^{1*}}\\)\n",
      "\\(\\pmb{I^{1}(t)}\\)\n",
      "\\(\\pmb{R^{1}(t)}\\)\n",
      "\\(I= \\{ 1,\\ldots,p \\} \\)\n",
      "\\(I_{H}\\subset I\\)\n",
      "\\(v^{j\\Omega_{k}}\\)\n",
      "\\(v^{jk}\\)\n",
      "\\(k\\in I_{H}\\)\n",
      "\\(v^{j}= (v^{jk} )_{k\\in I_{H}}\\)\n",
      "\\(K_{k}\\)\n",
      "\\(v^{j*}\\)\n",
      "\\((\\theta^{\\min}, \\theta^{\\max}, v^{\\min_{k}}, v^{\\max_{k}})\\in\\,]0,1[^{4}\\)\n",
      "\\((v^{jk} )_{k\\in I_{H}}\\)\n",
      "\\(J(\\theta^{j}, (v^{jk} )_{k\\in I_{H}})\\)\n",
      "\\(\\lambda _{2}^{j}(t)\\)\n",
      "\\(l\\in I_{H}\\)\n",
      "\\(v^{jk*}\\)\n",
      "\\(I= \\{ 1,2,3 \\}\\)\n",
      "\\(I_{H}= \\{ 2 \\}\\)\n",
      "\\(v^{12}\\)\n",
      "\\(\\Omega _{2}\\)\n",
      "\\(\\pmb{\\Omega_{3}}\\)\n",
      "\\(\\Omega_{3}\\)\n",
      "\\(\\beta_{11}=\\beta_{21}=\\beta _{31}\\)\n",
      "\\(\\beta_{12}\\)\n",
      "\\(\\beta_{32}\\)\n",
      "\\(\\beta _{32}\\)\n",
      "\\(\\pmb{\\beta _{12}}\\)\n",
      "\\(\\pmb{\\beta_{32}}\\)\n",
      "\\((1-v^{12} )\\beta_{12}\\frac{I^{2}}{I^{2}+S^{2}}S^{1}\\)\n",
      "\\(\\pmb{\\theta^{1}}\\)\n",
      "\\(\\pmb{v^{12}}\\)\n",
      "\\(I^{2}\\)\n"
     ]
    }
   ],
   "source": [
    "for key, val in d_inline.items():\n",
    "    print(key)"
   ]
  },
  {
   "cell_type": "code",
   "execution_count": null,
   "metadata": {
    "scrolled": true
   },
   "outputs": [],
   "source": [
    "for key, val in d_block.items():\n",
    "    print(key, '\\n')"
   ]
  },
  {
   "cell_type": "code",
   "execution_count": null,
   "metadata": {
    "scrolled": false
   },
   "outputs": [],
   "source": [
    "\n",
    "\n",
    "#expr = parse_latex(r\"\\lim_{x\\to a}\\frac{x}{y}\")   ## Test from here: https://tex.stackexchange.com/questions/256644/convert-latex-to-sympy-format\n",
    "#expr = parse_latex(r\"((1-v^{12} )\\beta_{12}\\frac{I^{2}}{I^{2}+S^{2}}S^{1})\")  \n",
    "#expr = parse_latex(\"(\\mu_{j}>0)\")\n",
    "expr = parse_latex(\"(\\Omega _{2})\")\n",
    "expr = parse_latex(r\"\\sum_{k=1}^{p} \\beta_{jk}\\frac{I^{\\Omega_{k}}}{I^{\\Omega_{k}}+S^{\\Omega_{k}}}S^{\\Omega_{j}},\")\n",
    "#expr = parse_latex(r\"\\frac{dH}{d\\theta^{j}}=0\")\n",
    "expr"
   ]
  },
  {
   "cell_type": "code",
   "execution_count": null,
   "metadata": {},
   "outputs": [],
   "source": [
    "from sympy import *\n",
    "x, y, z = symbols('x y z')\n",
    "expr = 2**x + x*y\n",
    "srepr(expr)"
   ]
  },
  {
   "cell_type": "code",
   "execution_count": null,
   "metadata": {},
   "outputs": [],
   "source": [
    "def pre(expr):\n",
    "    print(srepr(expr))\n",
    "    for arg in expr.args:\n",
    "        pre(arg)"
   ]
  },
  {
   "cell_type": "code",
   "execution_count": null,
   "metadata": {},
   "outputs": [],
   "source": [
    "pre(expr)"
   ]
  },
  {
   "cell_type": "code",
   "execution_count": null,
   "metadata": {},
   "outputs": [],
   "source": [
    "srepr(expr + sqrt(3240))"
   ]
  },
  {
   "cell_type": "code",
   "execution_count": null,
   "metadata": {},
   "outputs": [],
   "source": [
    "parse_expr(srepr(expr))"
   ]
  },
  {
   "cell_type": "code",
   "execution_count": null,
   "metadata": {},
   "outputs": [],
   "source": [
    "ast.parse(srepr(expr))\n"
   ]
  },
  {
   "cell_type": "code",
   "execution_count": null,
   "metadata": {},
   "outputs": [],
   "source": [
    "ast.dump(_)"
   ]
  },
  {
   "cell_type": "code",
   "execution_count": null,
   "metadata": {},
   "outputs": [],
   "source": [
    "import ast\n",
    "\n",
    "debug=False\n",
    "def consoleLog(msg):\n",
    "    if debug:\n",
    "        print(msg)\n",
    "\n",
    "\n",
    "def recurse(node):\n",
    "    if isinstance(node, ast.BinOp):\n",
    "        consoleLog('here')\n",
    "        if isinstance(node.op, ast.Mult) or isinstance(node.op, ast.Div):\n",
    "            print('(', end='')\n",
    "        recurse(node.left)\n",
    "        recurse(node.op)\n",
    "        recurse(node.right)\n",
    "        if isinstance(node.op, ast.Mult) or isinstance(node.op, ast.Div):\n",
    "            print(')', end='')\n",
    "    elif isinstance(node, ast.Add):\n",
    "        consoleLog('here2')\n",
    "        print('+', end='')\n",
    "    elif isinstance(node, ast.Sub):\n",
    "        consoleLog('here3')\n",
    "        print('-', end='')\n",
    "    elif isinstance(node, ast.Mult):\n",
    "        consoleLog('here4')\n",
    "        print('*', end='')\n",
    "    elif isinstance(node, ast.Div):\n",
    "        consoleLog('here5')\n",
    "        print('/', end='')\n",
    "    elif isinstance(node, ast.Num):\n",
    "        consoleLog('here6')\n",
    "        print(node.n, end='')\n",
    "    else:\n",
    "        consoleLog('here7')\n",
    "        for child in ast.iter_child_nodes(node):\n",
    "            recurse(child)\n",
    "\n",
    "\n",
    "def search_expr(node):\n",
    "    returns = []\n",
    "    for child in ast.iter_child_nodes(node):\n",
    "        if isinstance(child, ast.Expr):\n",
    "    \n",
    "            return child\n",
    "        returns.append(search_expr(child))\n",
    "    for ret in returns:\n",
    "        if isinstance(ret, ast.Expr):\n",
    "            return ret\n",
    "    return None\n",
    "\n",
    "\n",
    "a = ast.parse(srepr(expr))\n",
    "\n",
    "exprTwo = search_expr(a)\n",
    "if exprTwo is not None:\n",
    "    recurse(exprTwo)\n",
    "print()"
   ]
  },
  {
   "cell_type": "code",
   "execution_count": null,
   "metadata": {},
   "outputs": [],
   "source": [
    "ast.dump(_, annotate_fields=False)"
   ]
  }
 ],
 "metadata": {
  "kernelspec": {
   "display_name": "multivac36",
   "language": "python",
   "name": "multivac36"
  },
  "language_info": {
   "codemirror_mode": {
    "name": "ipython",
    "version": 3
   },
   "file_extension": ".py",
   "mimetype": "text/x-python",
   "name": "python",
   "nbconvert_exporter": "python",
   "pygments_lexer": "ipython3",
   "version": "3.6.7"
  }
 },
 "nbformat": 4,
 "nbformat_minor": 2
}
