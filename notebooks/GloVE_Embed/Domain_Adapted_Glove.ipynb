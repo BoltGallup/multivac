{
 "cells": [
  {
   "cell_type": "markdown",
   "metadata": {},
   "source": [
    "# 1. Load in Cleaned Article Text"
   ]
  },
  {
   "cell_type": "code",
   "execution_count": 1,
   "metadata": {},
   "outputs": [],
   "source": [
    "import json\n",
    "import pandas as pd\n",
    "from unidecode import unidecode\n",
    "\n",
    "with open(\"/Users/taylor_bolt/Desktop/ASKE_MULTIVAC/cleanedArticles-03042019.json\", 'r', encoding='utf-8') as jf:\n",
    "    src_data = json.load(jf)\n",
    " \n",
    "texts = [src_data[art]['text'] for art in src_data if src_data[art]['text'] is not None]\n",
    " \n",
    "# The \"unidecode\" step simplifies non-ASCII chars which\n",
    "# mess up the R GloVe engine. Probably a more sophisticated way to\n",
    "# bridge that gap but this is the quick and dirty solution\n",
    " \n",
    "texts_df = pd.Series(texts).apply(lambda x: unidecode(x))\n",
    "texts_df = pd.DataFrame({'text':texts_df})\n",
    "del texts, src_data"
   ]
  },
  {
   "cell_type": "markdown",
   "metadata": {},
   "source": [
    "# 2. Import Domain-General and Domain-Specific Model"
   ]
  },
  {
   "cell_type": "code",
   "execution_count": 2,
   "metadata": {},
   "outputs": [],
   "source": [
    "import pandas as pd\n",
    "import numpy as np\n",
    "import pickle\n",
    "\n",
    "## Load in the Domain-Specific Glove Embedding Model computed using the 'trainEmbedding' R script\n",
    "df = pd.read_csv('/Users/taylor_bolt/Desktop/ASKE_MULTIVAC/Domain_Adapted_GloVe.csv',index_col=0)\n",
    "domain_spec_vocab = list(df.index)\n",
    "DS_embeddings = df.values\n",
    "\n",
    "\n",
    "## Load in Stanford's 'Common Crawl' Domain-General Glove Embedding Model\n",
    "# Only pull out the words that are contained in our corpus\n",
    "# * This can take a while (~30min) - could use some optimization * \n",
    "# * For now, we just load in a previously saved 'model subset' *\n",
    "def loadGloveModel(gloveFile):\n",
    "    f = open(gloveFile,'r')\n",
    "    model = {}\n",
    "    for line in f:\n",
    "        splitLine = line.split()\n",
    "        word = splitLine[0]\n",
    "        if word in domain_spec_vocab:\n",
    "            #print(word)\n",
    "            embedding = np.array([float(val) for val in splitLine[1:]])\n",
    "            model[word] = embedding\n",
    "    return model\n",
    "# DG_embeddings = loadGloveModel('/Users/taylor_bolt/Desktop/ASKE_MULTIVAC/glove.42B.300d.txt')\n",
    "DG_embeddings = pickle.load( open( \"/Users/taylor_bolt/Desktop/ASKE_MULTIVAC/model_subset_DG.p\", \"rb\" ) )\n",
    "domain_gen_vocab = list(DG_embeddings.keys())\n",
    "\n",
    "## Post-processing to ensure rows match between the DG and DS e\n",
    "# Convert domain general (DG) embedding from dictionary to array\n",
    "DG_embeddings = np.array([DG_embeddings[i] for i in DG_embeddings.keys()])\n",
    "# Find the indices of matching words\n",
    "both = set(domain_gen_vocab).intersection(domain_spec_vocab)\n",
    "indices_gen = [domain_gen_vocab.index(x) for x in both]\n",
    "indices_spec = [domain_spec_vocab.index(x) for x in both]\n",
    "\n",
    "# Sort domain specific (DS) and domain general (DG) embedding array to match indices of DG array\n",
    "DS_embeddings = DS_embeddings[indices_spec,:]\n",
    "DG_embeddings = DG_embeddings[indices_gen,:]\n",
    "\n"
   ]
  },
  {
   "cell_type": "markdown",
   "metadata": {},
   "source": [
    "# 3. Run CCA b/w Domain-General and Domain-Specific Embeddings"
   ]
  },
  {
   "cell_type": "code",
   "execution_count": 14,
   "metadata": {},
   "outputs": [
    {
     "name": "stdout",
     "output_type": "stream",
     "text": [
      "(48536, 300)\n",
      "(48536, 300)\n"
     ]
    }
   ],
   "source": [
    "def domain_adapted_CCA(DG_embed,DS_embed,NC=100):\n",
    "    from scipy.stats import zscore \n",
    "    from sklearn.cross_decomposition import CCA\n",
    "    # Transpose both and z-score\n",
    "    DG_embed_norm = zscore(DG_embed)\n",
    "    print(DG_embed_norm.shape)\n",
    "    DS_embed_norm = zscore(DS_embed)\n",
    "    print(DS_embed_norm.shape)\n",
    "    # Initialize CCA Model\n",
    "    cca = CCA(n_components=NC)\n",
    "    cca.fit(DG_embed_norm,DS_embed_norm)\n",
    "    \n",
    "    DA_embeddings = (cca_res.x_scores_ + cca_res.y_scores_)/2\n",
    "    return cca, DA_embeddings\n",
    "\n",
    "cca_res, DA_embeddings = domain_adapted_CCA(DG_embeddings,DS_embeddings,NC=10)"
   ]
  }
 ],
 "metadata": {
  "kernelspec": {
   "display_name": "Python 3",
   "language": "python",
   "name": "python3"
  },
  "language_info": {
   "codemirror_mode": {
    "name": "ipython",
    "version": 3
   },
   "file_extension": ".py",
   "mimetype": "text/x-python",
   "name": "python",
   "nbconvert_exporter": "python",
   "pygments_lexer": "ipython3",
   "version": "3.7.1"
  }
 },
 "nbformat": 4,
 "nbformat_minor": 2
}
